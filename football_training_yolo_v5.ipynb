{
 "cells": [
  {
   "cell_type": "markdown",
   "id": "e775eae2-cb55-4214-85e0-dbc5695a71ae",
   "metadata": {},
   "source": [
    "# Get Dataset"
   ]
  },
  {
   "cell_type": "code",
   "execution_count": 4,
   "id": "55442a3a-fd99-4308-af3d-3de61ff4b17e",
   "metadata": {},
   "outputs": [
    {
     "name": "stdout",
     "output_type": "stream",
     "text": [
      "loading Roboflow workspace...\n",
      "loading Roboflow project...\n"
     ]
    },
    {
     "name": "stderr",
     "output_type": "stream",
     "text": [
      "Downloading Dataset Version Zip in test_project-2 to yolov5pytorch:: 100%|█| 215"
     ]
    },
    {
     "name": "stdout",
     "output_type": "stream",
     "text": [
      "\n"
     ]
    },
    {
     "name": "stderr",
     "output_type": "stream",
     "text": [
      "\n",
      "Extracting Dataset Version Zip to test_project-2 in yolov5pytorch:: 100%|█| 3705\n"
     ]
    }
   ],
   "source": [
    "from roboflow import Roboflow\n",
    "rf = Roboflow(api_key=\"PZukhtaPqsSUCK8Zlw6L\")\n",
    "project = rf.workspace(\"azami-youssef\").project(\"test_project-3cocv\")\n",
    "version = project.version(2)\n",
    "dataset = version.download(\"yolov5\")\n",
    "                "
   ]
  },
  {
   "cell_type": "code",
   "execution_count": 6,
   "id": "308d9697-cfff-4a3a-b855-79862cd2ebf9",
   "metadata": {
    "scrolled": true
   },
   "outputs": [
    {
     "data": {
      "text/plain": [
       "'test_project-2/test_project-2/valid'"
      ]
     },
     "execution_count": 6,
     "metadata": {},
     "output_type": "execute_result"
    }
   ],
   "source": [
    "import shutil\n",
    "\n",
    "shutil.move('test_project-2/train',\n",
    "            'test_project-2/test_project-2/train'\n",
    "           )\n",
    "\n",
    "shutil.move('test_project-2/test',\n",
    "            'test_project-2/test_project-2/test'\n",
    "           )\n",
    "\n",
    "shutil.move('test_project-2/valid',\n",
    "            'test_project-2/test_project-2/valid'\n",
    "           )"
   ]
  },
  {
   "cell_type": "markdown",
   "id": "e4bf400c-5bac-4f2b-b13a-fbb15e9e0a9b",
   "metadata": {},
   "source": [
    "# Training"
   ]
  },
  {
   "cell_type": "code",
   "execution_count": null,
   "id": "06eea1e0-6818-41ac-aeba-51ce447b666c",
   "metadata": {},
   "outputs": [],
   "source": [
    "!yolo task=detect mode=train model=yolov5x.pt data={dataset.location}/data.yaml epochs=100 imgsz=640"
   ]
  },
  {
   "cell_type": "code",
   "execution_count": null,
   "id": "ee1f969e-d08a-4177-b3c2-d9a39513b1db",
   "metadata": {},
   "outputs": [],
   "source": []
  }
 ],
 "metadata": {
  "kernelspec": {
   "display_name": "Python 3 (ipykernel)",
   "language": "python",
   "name": "python3"
  },
  "language_info": {
   "codemirror_mode": {
    "name": "ipython",
    "version": 3
   },
   "file_extension": ".py",
   "mimetype": "text/x-python",
   "name": "python",
   "nbconvert_exporter": "python",
   "pygments_lexer": "ipython3",
   "version": "3.12.4"
  }
 },
 "nbformat": 4,
 "nbformat_minor": 5
}
